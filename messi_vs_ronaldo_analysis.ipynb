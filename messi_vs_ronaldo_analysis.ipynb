# Messi vs Ronaldo: Full Career Stats Analysis

import pandas as pd
import matplotlib.pyplot as plt
import seaborn as sns

# Load the dataset
import io
extended_data = io.StringIO("""
Season,Messi Goals,Ronaldo Goals,Messi Assists,Ronaldo Assists,Messi Dribbles,Ronaldo Dribbles,Messi MOTM,Ronaldo MOTM
2009/10,47,33,11,7,198,72,22,13
2010/11,53,53,21,12,185,79,25,16
2011/12,73,60,29,15,189,92,29,21
2012/13,60,55,15,12,162,82,21,18
2013/14,41,51,14,13,154,69,17,19
2014/15,58,61,27,22,164,63,25,20
2015/16,41,51,23,15,165,57,20,17
2016/17,54,42,19,11,150,54,24,15
2017/18,45,44,18,8,143,46,22,14
2018/19,51,28,19,10,134,35,27,12
2019/20,31,37,25,5,118,29,22,10
2020/21,38,36,12,4,111,26,18,9
2021/22,11,24,14,3,101,21,10,6
2022/23,21,14,13,2,93,18,12,4
""")

# Create DataFrame
df = pd.read_csv(extended_data)
df['Season'] = df['Season'].astype(str)

# Prepare data for plotting
assists = df.melt(id_vars='Season', value_vars=['Messi Assists', 'Ronaldo Assists'], var_name='Player', value_name='Assists')
dribbles = df.melt(id_vars='Season', value_vars=['Messi Dribbles', 'Ronaldo Dribbles'], var_name='Player', value_name='Dribbles')
motm = df.melt(id_vars='Season', value_vars=['Messi MOTM', 'Ronaldo MOTM'], var_name='Player', value_name='MOTM')
goals = df.melt(id_vars='Season', value_vars=['Messi Goals', 'Ronaldo Goals'], var_name='Player', value_name='Goals')

# Plot style
sns.set(style="whitegrid")

# Plot Goals per Season
plt.figure(figsize=(12, 6))
sns.lineplot(data=goals, x='Season', y='Goals', hue='Player', marker='o')
plt.title('Goals per Season: Messi vs Ronaldo')
plt.xticks(rotation=45)
plt.tight_layout()
plt.savefig("messi_vs_ronaldo_goals_per_season.png")
plt.show()

# Plot Assists per Season
plt.figure(figsize=(12, 6))
sns.lineplot(data=assists, x='Season', y='Assists', hue='Player', marker='o')
plt.title('Assists per Season: Messi vs Ronaldo')
plt.xticks(rotation=45)
plt.tight_layout()
plt.savefig("messi_vs_ronaldo_assists.png")
plt.show()

# Plot Dribbles per Season
plt.figure(figsize=(12, 6))
sns.lineplot(data=dribbles, x='Season', y='Dribbles', hue='Player', marker='o')
plt.title('Dribbles per Season: Messi vs Ronaldo')
plt.xticks(rotation=45)
plt.tight_layout()
plt.savefig("messi_vs_ronaldo_dribbles.png")
plt.show()

# Plot MOTM Awards per Season
plt.figure(figsize=(12, 6))
sns.lineplot(data=motm, x='Season', y='MOTM', hue='Player', marker='o')
plt.title('Man of the Match Awards per Season: Messi vs Ronaldo')
plt.xticks(rotation=45)
plt.tight_layout()
plt.savefig("messi_vs_ronaldo_motm.png")
plt.show()